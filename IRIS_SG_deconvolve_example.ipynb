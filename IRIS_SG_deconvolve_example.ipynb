{
 "cells": [
  {
   "cell_type": "code",
   "execution_count": 1,
   "metadata": {},
   "outputs": [],
   "source": [
    "##\n",
    "## Import various modules \n",
    "##\n",
    "import numpy as np\n",
    "import matplotlib as mpl\n",
    "import matplotlib.pyplot as plt\n",
    "%matplotlib tk\n",
    "import sys\n",
    "import os\n",
    "import re\n",
    "from scipy import io\n",
    "import pickle\n",
    "import copy\n",
    "from iris_lmsalpy import extract_irisL2data\n",
    "sys.path.insert(0,'/Users/gskerr1/Documents/Research/Python_Programs/iris_programs')\n",
    "#import importlib\n",
    "import IRIS_SG_deconvolve\n",
    "#importlib.reload(IRIS_SG_deconvolve)"
   ]
  },
  {
   "cell_type": "code",
   "execution_count": 2,
   "metadata": {},
   "outputs": [],
   "source": [
    "###################\n",
    "###################\n",
    "##\n",
    "## Graham S. Kerr\n",
    "## NASA/GSFC & CUA\n",
    "## July 2020\n",
    "## \n",
    "## NAME:   IRIS_SG_Deconvolve.py\n",
    "##\n",
    "## PURPOSE: Deconvolves IRIS SG data using the PSFs from Courrier et al 2018.\n",
    "##          \n",
    "## NOTES: Calls IRIS_SG_deconvolve.py\n",
    "##\n",
    "##        There are probably more clever ways to code this in -- i'm fairly new to python. \n",
    "##        \n",
    "##        Tested on Mg II data from 2015-March-11\n",
    "##\n",
    "##        Compared to the IDL version, numbers all seem to match\n",
    "##\n",
    "###################\n",
    "###################"
   ]
  },
  {
   "cell_type": "code",
   "execution_count": 3,
   "metadata": {},
   "outputs": [],
   "source": [
    "## \n",
    "## Some prelim set up\n",
    "## \n",
    "\n",
    "# Number of Richardson-Lucy iterations to perform (this will be an input eventually)\n",
    "iterations = 10\n",
    "\n",
    "# Which raster image to focus on \n",
    "rind = 0\n",
    "\n",
    "# Which window are we looking at? \n",
    "psfname = 'sg_psf_2796'\n",
    "\n",
    "# To deconvolve by division set to True\n",
    "fft_div = False"
   ]
  },
  {
   "cell_type": "code",
   "execution_count": 4,
   "metadata": {},
   "outputs": [],
   "source": [
    "##\n",
    "## The SG filenames\n",
    "## \n",
    "\n",
    "dir1 = './'\n",
    "raster_filename = dir1+'iris_l2_20150311_151947_3860107071_raster_t000_r00170.fits'"
   ]
  },
  {
   "cell_type": "code",
   "execution_count": 6,
   "metadata": {},
   "outputs": [],
   "source": [
    "## \n",
    "## Load the PSFs\n",
    "##\n",
    "\n",
    "psf_filename = dir1+'IRIS_SG_PSFs.dictionary'\n",
    "with open(dir1+psf_filename, 'rb') as config_dictionary_file:\n",
    "    psf_all = pickle.load(config_dictionary_file)\n",
    "\n",
    "if psfname == 'sg_psf_2796':\n",
    "    psf = psf_all['sg_psf_2796']\n",
    "elif psfname == 'sg_psf_2814':\n",
    "    psf = psf_all['sg_psf_2814']\n",
    "elif psfname == 'sg_psf_1336':\n",
    "    psf = psf_all['sg_psf_1336'] \n",
    "elif psfname == 'sg_psf_1394':\n",
    "    psf = psf_all['sg_psf_1394']  \n",
    "else: \n",
    "    psf = psf_all['sg_psf_2796']\n",
    "    print('Defaulting to sg_psf_2796')"
   ]
  },
  {
   "cell_type": "code",
   "execution_count": 7,
   "metadata": {},
   "outputs": [
    {
     "data": {
      "text/plain": [
       "'Large coarse 4-step raster 6x120 4s  C II   Si IV   Mg II w Deep x 4'"
      ]
     },
     "execution_count": 7,
     "metadata": {},
     "output_type": "execute_result"
    }
   ],
   "source": [
    "##\n",
    "## Show the obs obserview\n",
    "##\n",
    "\n",
    "hdr = extract_irisL2data.only_header(raster_filename)\n",
    "hdr['OBS_DESC']"
   ]
  },
  {
   "cell_type": "code",
   "execution_count": 8,
   "metadata": {},
   "outputs": [
    {
     "name": "stdout",
     "output_type": "stream",
     "text": [
      "\n",
      "Extracting information from file ./iris_l2_20150311_151947_3860107071_raster_t000_r00170.fits... \n",
      "\n",
      "Available data with size Y x X x Wavelength are stored in windows labeled as:\n",
      "\n",
      "--------------------------------------------------------------------\n",
      "Index --- Window label --- Y x X x WL --- Spectral range [AA] (band)\n",
      "--------------------------------------------------------------------\n",
      "  0 \t C II 1336    \t   388x4x170 \t   1332.75 - 1337.14  (FUV)\n",
      "  1 \t 1343         \t   388x4x73 \t   1342.33 - 1344.20  (FUV)\n",
      "  2 \t Fe XII 1349  \t   388x4x121 \t   1347.73 - 1350.85  (FUV)\n",
      "  3 \t O I 1356     \t   388x4x138 \t   1352.28 - 1355.83  (FUV)\n",
      "  4 \t Si IV 1403   \t   388x4x284 \t   1398.68 - 1405.88  (FUV)\n",
      "  5 \t 2832         \t   388x4x56 \t   2831.39 - 2834.19  (NUV)\n",
      "  6 \t 2826         \t   388x4x72 \t   2824.87 - 2828.49  (NUV)\n",
      "  7 \t 2814         \t   388x4x72 \t   2812.70 - 2816.32  (NUV)\n",
      "  8 \t Mg II k 2796 \t   388x4x312 \t   2790.71 - 2806.54  (NUV)\n",
      "--------------------------------------------------------------------\n",
      "\n",
      "Observation description:  Large coarse 4-step raster 6x120 4s  C II   Si IV   Mg II w Deep x 4\n",
      "\n"
     ]
    }
   ],
   "source": [
    "##\n",
    "## Show the line info and winids\n",
    "##\n",
    "\n",
    "lines=extract_irisL2data.show_lines(raster_filename)"
   ]
  },
  {
   "cell_type": "code",
   "execution_count": 9,
   "metadata": {},
   "outputs": [
    {
     "name": "stdout",
     "output_type": "stream",
     "text": [
      "Creating temporary file...  /var/folders/xb/7zrk8dcn2kj26gcgxfjmyg9cv_zfzh/T/tmp8ek_9k3y\n",
      "Creating temporary file...  /var/folders/xb/7zrk8dcn2kj26gcgxfjmyg9cv_zfzh/T/tmpxge4kfje\n"
     ]
    }
   ],
   "source": [
    "##\n",
    "## Create a raster object with certain windows\n",
    "##\n",
    "\n",
    "iris_sg = extract_irisL2data.load(raster_filename, window_info = lines[[7,8]])"
   ]
  },
  {
   "cell_type": "code",
   "execution_count": 10,
   "metadata": {},
   "outputs": [
    {
     "name": "stdout",
     "output_type": "stream",
     "text": [
      "Removing temporary file... /var/folders/xb/7zrk8dcn2kj26gcgxfjmyg9cv_zfzh/T/tmp8ek_9k3y\n",
      "Removing temporary file... /var/folders/xb/7zrk8dcn2kj26gcgxfjmyg9cv_zfzh/T/tmpxge4kfje\n"
     ]
    }
   ],
   "source": [
    "##\n",
    "## Load into local memory so we can modify the data\n",
    "##\n",
    "\n",
    "iris_sg.flush()"
   ]
  },
  {
   "cell_type": "code",
   "execution_count": 11,
   "metadata": {},
   "outputs": [
    {
     "name": "stderr",
     "output_type": "stream",
     "text": [
      "/Users/gskerr1/Documents/Research/Python_Programs/iris_programs/IRIS_SG_deconvolve.py:49: RuntimeWarning: invalid value encountered in true_divide\n",
      "  step1 = data_in_zr/(FFT_conv_1D(dcvim,psf,rev_psf=False,div=False))\n"
     ]
    }
   ],
   "source": [
    "##\n",
    "## Deconvolution of PSF\n",
    "##\n",
    "\n",
    "data_in = iris_sg.raster['Mg II k 2796'].data[:,rind,:]\n",
    "data_decon = IRIS_SG_deconvolve.IRIS_SG_deconvolve(data_in,psf,iterations=iterations, fft_div=fft_div)"
   ]
  },
  {
   "cell_type": "code",
   "execution_count": 12,
   "metadata": {},
   "outputs": [
    {
     "data": {
      "text/plain": [
       "<matplotlib.image.AxesImage at 0x125865250>"
      ]
     },
     "execution_count": 12,
     "metadata": {},
     "output_type": "execute_result"
    }
   ],
   "source": [
    "plt.imshow(data_decon**0.3,origin='lower')"
   ]
  },
  {
   "cell_type": "code",
   "execution_count": null,
   "metadata": {},
   "outputs": [],
   "source": []
  }
 ],
 "metadata": {
  "kernelspec": {
   "display_name": "py38",
   "language": "python",
   "name": "py38"
  },
  "language_info": {
   "codemirror_mode": {
    "name": "ipython",
    "version": 3
   },
   "file_extension": ".py",
   "mimetype": "text/x-python",
   "name": "python",
   "nbconvert_exporter": "python",
   "pygments_lexer": "ipython3",
   "version": "3.8.2"
  }
 },
 "nbformat": 4,
 "nbformat_minor": 4
}
